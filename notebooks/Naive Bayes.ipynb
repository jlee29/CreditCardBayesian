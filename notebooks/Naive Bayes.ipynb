{
 "cells": [
  {
   "cell_type": "code",
   "execution_count": 3,
   "metadata": {
    "collapsed": true
   },
   "outputs": [],
   "source": [
    "%matplotlib inline\n",
    "import os\n",
    "# let's not pollute this blog post with warnings\n",
    "from warnings import filterwarnings\n",
    "filterwarnings('ignore')\n",
    "import numpy as np\n",
    "import pandas as pd\n",
    "import csv\n",
    "#Import Library of Gaussian Naive Bayes model\n",
    "from sklearn.naive_bayes import GaussianNB, MultinomialNB"
   ]
  },
  {
   "cell_type": "code",
   "execution_count": 4,
   "metadata": {
    "collapsed": true
   },
   "outputs": [],
   "source": [
    "def calculateAccuracy(x, y, dataType):\n",
    "    x_train = x[:24000]\n",
    "    y_train = y[:24000]\n",
    "    x_test = x[24000:]\n",
    "    y_test = y[24000:]\n",
    "    \n",
    "    model = GaussianNB()\n",
    "    model.fit(x_train, y_train)\n",
    "\n",
    "    y_pred = model.predict(x_test)\n",
    "    TP,FP,TN,FN = (0,0,0,0)\n",
    "    for i in range(len(y_test)): \n",
    "        TP += (y_test[i] == y_pred[i] and y_test[i] == 1)\n",
    "        FP += (y_test[i] != y_pred[i] and y_test[i] == 0)\n",
    "        TN += (y_test[i] == y_pred[i] and y_test[i] == 0)\n",
    "        FN += (y_test[i] != y_pred[i] and y_test[i] == 1)\n",
    "\n",
    "    accuracy = (TP + TN) / (1.0*len(y_test))\n",
    "    print(dataType + \": \" + str(accuracy))"
   ]
  },
  {
   "cell_type": "code",
   "execution_count": 6,
   "metadata": {
    "collapsed": false
   },
   "outputs": [
    {
     "name": "stdout",
     "output_type": "stream",
     "text": [
      "data: 0.403\n",
      "smallest: 0.815833333333\n",
      "smaller: 0.815666666667\n",
      "small: 0.7995\n",
      "all disc: 0.808166666667\n",
      "disc only: 0.8155\n",
      "disc smallest: 0.818666666667\n",
      "disc smaller: 0.818833333333\n",
      "disc small: 0.814333333333\n"
     ]
    }
   ],
   "source": [
    "smallestLabelPath = os.path.join('../data/smallest.csv')\n",
    "smallerLabelPath = os.path.join('../data/smaller.csv')\n",
    "smallLabelPath = os.path.join('../data/small.csv')\n",
    "allDiscretizedPath = os.path.join('../data/all_features_discretized.csv')\n",
    "discreteOnlyPath = os.path.join('../data/discrete_features.csv')\n",
    "\n",
    "discSmallestPath = os.path.join('../data/discSmallest.csv')\n",
    "discSmallerPath = os.path.join('../data/discSmaller.csv')\n",
    "discSmallPath = os.path.join('../data/discSmall.csv')\n",
    "\n",
    "dataPath = os.path.join('../data/data.csv')\n",
    "\n",
    "dataTypes = [\"data\", \"smallest\", \"smaller\", \"small\",\"all disc\", \"disc only\", \"disc smallest\", \"disc smaller\", \"disc small\"]\n",
    "paths = [dataPath, smallestLabelPath, smallerLabelPath, smallLabelPath, allDiscretizedPath, discreteOnlyPath, discSmallestPath, discSmallerPath, discSmallPath]\n",
    "\n",
    "for i, path in enumerate(paths):\n",
    "    data = pd.read_csv(path)\n",
    "    array = np.array(data)\n",
    "    \n",
    "    X = array[:,:array.shape[1]-1]\n",
    "    Y = array[:,array.shape[1]-1]\n",
    "    \n",
    "    calculateAccuracy(X, Y, dataTypes[i])"
   ]
  },
  {
   "cell_type": "code",
   "execution_count": 4,
   "metadata": {
    "collapsed": true
   },
   "outputs": [],
   "source": [
    "def calculateMultiAccuracy(x, y, dataType):\n",
    "    x_train = x[:24000]\n",
    "    y_train = y[:24000]\n",
    "    x_test = x[24000:]\n",
    "    y_test = y[24000:]\n",
    "    \n",
    "    model = MultinomialNB()\n",
    "    model.fit(x_train, y_train)\n",
    "\n",
    "    y_pred = model.predict(x_test)\n",
    "    TP,FP,TN,FN = (0,0,0,0)\n",
    "    for i in range(len(y_test)): \n",
    "        TP += (y_test[i] == y_pred[i] and y_test[i] == 1)\n",
    "        FP += (y_test[i] != y_pred[i] and y_test[i] == 0)\n",
    "        TN += (y_test[i] == y_pred[i] and y_test[i] == 0)\n",
    "        FN += (y_test[i] != y_pred[i] and y_test[i] == 1)\n",
    "\n",
    "    accuracy = (TP + TN) / (1.0*len(y_test))\n",
    "    print(dataType + \": \" + str(accuracy))"
   ]
  }
 ],
 "metadata": {
  "kernelspec": {
   "display_name": "Python 3",
   "language": "python",
   "name": "python3"
  },
  "language_info": {
   "codemirror_mode": {
    "name": "ipython",
    "version": 3
   },
   "file_extension": ".py",
   "mimetype": "text/x-python",
   "name": "python",
   "nbconvert_exporter": "python",
   "pygments_lexer": "ipython3",
   "version": "3.5.2"
  }
 },
 "nbformat": 4,
 "nbformat_minor": 2
}
