{
 "cells": [
  {
   "cell_type": "code",
   "execution_count": 1,
   "metadata": {
    "collapsed": false
   },
   "outputs": [],
   "source": [
    "import os\n",
    "import numpy as np\n",
    "import pandas as pd\n",
    "\n",
    "from sklearn.feature_selection import RFE\n",
    "from sklearn.linear_model import LogisticRegression"
   ]
  },
  {
   "cell_type": "code",
   "execution_count": 2,
   "metadata": {
    "collapsed": false
   },
   "outputs": [],
   "source": [
    "# load the data\n",
    "dataCols = [\"LIMIT_BAL,continuous\",\"SEX,discrete(2)\",\"EDUCATION,discrete(7)\",\"MARRIAGE,discrete(4)\",\"AGE,continuous\",\"PAY_0,discrete(11)\",\"PAY_2,discrete(11)\",\"PAY_3,discrete(11)\",\"PAY_4,discrete(11)\",\"PAY_5,discrete(11)\",\"PAY_6,discrete(11)\",\"BILL_AMT1,continuous\",\"BILL_AMT2,continuous\",\"BILL_AMT3,continuous\",\"BILL_AMT4,continuous\",\"BILL_AMT5,continuous\",\"BILL_AMT6,continuous\",\"PAY_AMT1,continuous\",\"PAY_AMT2,continuous\",\"PAY_AMT3,continuous\",\"PAY_AMT4,continuous\",\"PAY_AMT5,continuous\",\"PAY_AMT6,continuous\",\"Default,class(0,1)\"]\n",
    "\n",
    "labelpath = os.path.join('../data/data.csv')"
   ]
  },
  {
   "cell_type": "code",
   "execution_count": 3,
   "metadata": {
    "collapsed": false
   },
   "outputs": [],
   "source": [
    "array = np.array(pd.read_csv(labelpath))\n",
    "X = array[:,0:23]\n",
    "Y = array[:,23]"
   ]
  },
  {
   "cell_type": "code",
   "execution_count": null,
   "metadata": {
    "collapsed": false
   },
   "outputs": [],
   "source": [
    "model = LogisticRegression()\n",
    "rfe = RFE(estimator=model, n_features_to_select=10, step=1)\n",
    "rfe.fit(X, Y)\n",
    "ranking10 = rfe.ranking_"
   ]
  },
  {
   "cell_type": "code",
   "execution_count": null,
   "metadata": {
    "collapsed": false
   },
   "outputs": [],
   "source": [
    "relevantIndices = []\n",
    "for i in range(23):\n",
    "    if ranking[i] == 1:\n",
    "        relevantIndices.append(i)"
   ]
  },
  {
   "cell_type": "code",
   "execution_count": null,
   "metadata": {
    "collapsed": false
   },
   "outputs": [],
   "source": [
    "newX = X[:,relevantIndices]\n",
    "Y = np.reshape(Y, (-1,1))\n",
    "z = np.concatenate((newX,Y),axis=1)\n",
    "smallDataFrame = pd.DataFrame(z)\n",
    "smallDataFrame.columns = [dataCols[ind] for ind in relevantIndices] + [\"Default,class(0,1)\"]\n",
    "smallDataFrame.to_csv('../data/small.csv')"
   ]
  },
  {
   "cell_type": "code",
   "execution_count": null,
   "metadata": {
    "collapsed": true
   },
   "outputs": [],
   "source": []
  }
 ],
 "metadata": {
  "kernelspec": {
   "display_name": "Python 3",
   "language": "python",
   "name": "python3"
  },
  "language_info": {
   "codemirror_mode": {
    "name": "ipython",
    "version": 3
   },
   "file_extension": ".py",
   "mimetype": "text/x-python",
   "name": "python",
   "nbconvert_exporter": "python",
   "pygments_lexer": "ipython3",
   "version": "3.5.2"
  }
 },
 "nbformat": 4,
 "nbformat_minor": 2
}
