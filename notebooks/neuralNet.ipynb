{
 "cells": [
  {
   "cell_type": "code",
   "execution_count": 4,
   "metadata": {
    "collapsed": false
   },
   "outputs": [],
   "source": [
    "%matplotlib inline\n",
    "\n",
    "import os\n",
    "\n",
    "# let's not pollute this blog post with warnings\n",
    "from warnings import filterwarnings\n",
    "filterwarnings('ignore')\n",
    "\n",
    "import keras\n",
    "import numpy as np\n",
    "import pandas as pd\n",
    "from keras.models import Sequential\n",
    "from keras.layers import Dense"
   ]
  },
  {
   "cell_type": "code",
   "execution_count": 17,
   "metadata": {
    "collapsed": true
   },
   "outputs": [],
   "source": [
    "def runModel(X, Y):\n",
    "    x, y = X[:24000], Y[:24000]\n",
    "    x_val, y_val = X[24000:27000], Y[24000:27000]\n",
    "    x_test, y_test = X[27000:], Y[27000:]\n",
    "\n",
    "    model = Sequential()\n",
    "    model.add(Dense(1, activation='sigmoid', input_dim=x.shape[1]))\n",
    "    model.compile(optimizer='rmsprop', loss='binary_crossentropy')\n",
    "    model.fit(x, y, nb_epoch=10, validation_data=(x_val, y_val))\n",
    "    print(y_test[:10])\n",
    "    print(model.predict(x_test)[:10])\n",
    "    return np.sum(y_test != model.predict(x_test))*1.0/3000"
   ]
  },
  {
   "cell_type": "code",
   "execution_count": 18,
   "metadata": {
    "collapsed": false
   },
   "outputs": [
    {
     "name": "stdout",
     "output_type": "stream",
     "text": [
      "Train on 24000 samples, validate on 3000 samples\n",
      "Epoch 1/10\n",
      "24000/24000 [==============================] - 2s - loss: 20.3668 - val_loss: 21.4850\n",
      "Epoch 2/10\n",
      "24000/24000 [==============================] - 1s - loss: 11.2630 - val_loss: -5.6037\n",
      "Epoch 3/10\n",
      "24000/24000 [==============================] - 1s - loss: -4.4717 - val_loss: -5.6037\n",
      "Epoch 4/10\n",
      "24000/24000 [==============================] - 1s - loss: -4.4796 - val_loss: -5.6037\n",
      "Epoch 5/10\n",
      "24000/24000 [==============================] - 1s - loss: -4.4818 - val_loss: -5.6037\n",
      "Epoch 6/10\n",
      "24000/24000 [==============================] - 1s - loss: -4.4824 - val_loss: -5.6037\n",
      "Epoch 7/10\n",
      "24000/24000 [==============================] - 1s - loss: -4.4824 - val_loss: -5.6037\n",
      "Epoch 8/10\n",
      "24000/24000 [==============================] - 1s - loss: -4.4824 - val_loss: -5.6037\n",
      "Epoch 9/10\n",
      "24000/24000 [==============================] - 1s - loss: -4.4825 - val_loss: -5.6037\n",
      "Epoch 10/10\n",
      "24000/24000 [==============================] - 1s - loss: -4.4827 - val_loss: -5.6037\n",
      "[ 2.  0.  0.  2. -2.  0.  0.  0.  0. -1.]\n",
      "[[ 0.]\n",
      " [ 0.]\n",
      " [ 0.]\n",
      " [ 0.]\n",
      " [ 0.]\n",
      " [ 0.]\n",
      " [ 0.]\n",
      " [ 0.]\n",
      " [ 0.]\n",
      " [ 0.]]\n"
     ]
    }
   ],
   "source": [
    "smallLabelPath = os.path.join('../data/small.csv')\n",
    "positiveSmallLabelPath = os.path.join('../data/positive_small.csv')\n",
    "allDiscretizedPath = os.path.join('../data/all_features_discretized.csv')\n",
    "positiveAllDiscretizedPath = os.path.join('../data/positive_all_discretized.csv')\n",
    "discreteOnlyPath = os.path.join('../data/discrete_features.csv')\n",
    "\n",
    "dataTypes = [\"small\", \"pos small\", \"all disc\", \"pos all disc\", \"disc only\"]\n",
    "paths = [smallLabelPath, positiveSmallLabelPath, allDiscretizedPath, positiveAllDiscretizedPath, discreteOnlyPath]\n",
    "accuracies = []\n",
    "for i, path in enumerate(paths[:1]):\n",
    "    data = pd.read_csv(path)\n",
    "    array = np.array(data)\n",
    "    \n",
    "    X = array[:,:array.shape[1]-1]\n",
    "    Y = array[:,array.shape[1]-1]\n",
    "    \n",
    "    accuracies.append(runModel(X,Y))"
   ]
  },
  {
   "cell_type": "code",
   "execution_count": 16,
   "metadata": {
    "collapsed": false
   },
   "outputs": [
    {
     "name": "stdout",
     "output_type": "stream",
     "text": [
      "[3000.0]\n"
     ]
    }
   ],
   "source": [
    "print(accuracies)"
   ]
  },
  {
   "cell_type": "code",
   "execution_count": null,
   "metadata": {
    "collapsed": true
   },
   "outputs": [],
   "source": []
  }
 ],
 "metadata": {
  "kernelspec": {
   "display_name": "Python 3",
   "language": "python",
   "name": "python3"
  },
  "language_info": {
   "codemirror_mode": {
    "name": "ipython",
    "version": 3
   },
   "file_extension": ".py",
   "mimetype": "text/x-python",
   "name": "python",
   "nbconvert_exporter": "python",
   "pygments_lexer": "ipython3",
   "version": "3.5.2"
  }
 },
 "nbformat": 4,
 "nbformat_minor": 0
}
