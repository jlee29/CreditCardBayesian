{
 "cells": [
  {
   "cell_type": "code",
   "execution_count": 12,
   "metadata": {
    "collapsed": false
   },
   "outputs": [],
   "source": [
    "import os\n",
    "import numpy as np\n",
    "import pandas as pd\n",
    "from pomegranate import *"
   ]
  },
  {
   "cell_type": "code",
   "execution_count": 16,
   "metadata": {
    "collapsed": true
   },
   "outputs": [],
   "source": [
    "exactDPGraphs = []\n",
    "greedyGraphs = []"
   ]
  },
  {
   "cell_type": "code",
   "execution_count": 3,
   "metadata": {
    "collapsed": false
   },
   "outputs": [
    {
     "name": "stdout",
     "output_type": "stream",
     "text": [
      "0.830666666667\n",
      "0.831\n"
     ]
    }
   ],
   "source": [
    "labelpath = os.path.join('../data/smallest.csv')\n",
    "df = pd.read_csv(labelpath)\n",
    "colNames = df.columns\n",
    "data = np.array(df)\n",
    "data_train = data[:24000]\n",
    "data_test = data[24000:]\n",
    "model1 = BayesianNetwork.from_samples(data_train, algorithm='exact-dp', state_names=colNames)\n",
    "model2 = BayesianNetwork.from_samples(data_train, algorithm='greedy', state_names=colNames)\n",
    "\n",
    "data_test_blank = np.copy(data_test)\n",
    "data_test_blank[:,data_test_blank.shape[1]-1] = None\n",
    "\n",
    "prediction1 = model1.predict(data_test_blank)\n",
    "prediction2 = model2.predict(data_test_blank)\n",
    "y_test = data_test[:,-1]\n",
    "y_pred1 = prediction1[:,-1]\n",
    "y_pred2 = prediction2[:,-1]\n",
    "\n",
    "accuracy1 = np.mean(y_test == y_pred1)\n",
    "accuracy2 = np.mean(y_test == y_pred2)\n",
    "\n",
    "print(accuracy1)\n",
    "print(accuracy2)\n",
    "\n",
    "exactDPGraphs.append(model1)\n",
    "greedyGraphs.append(model2)"
   ]
  },
  {
   "cell_type": "code",
   "execution_count": 4,
   "metadata": {
    "collapsed": false
   },
   "outputs": [
    {
     "name": "stdout",
     "output_type": "stream",
     "text": [
      "0.830666666667\n",
      "0.831\n"
     ]
    }
   ],
   "source": [
    "labelpath = os.path.join('../data/small6.csv')\n",
    "df = pd.read_csv(labelpath)\n",
    "colNames = df.columns\n",
    "data = np.array(df)\n",
    "data_train = data[:24000]\n",
    "data_test = data[24000:]\n",
    "model1 = BayesianNetwork.from_samples(data_train, algorithm='exact-dp', state_names=colNames)\n",
    "model2 = BayesianNetwork.from_samples(data_train, algorithm='greedy', state_names=colNames)\n",
    "\n",
    "data_test_blank = np.copy(data_test)\n",
    "data_test_blank[:,data_test_blank.shape[1]-1] = None\n",
    "\n",
    "prediction1 = model1.predict(data_test_blank)\n",
    "prediction2 = model2.predict(data_test_blank)\n",
    "y_test = data_test[:,-1]\n",
    "y_pred1 = prediction1[:,-1]\n",
    "y_pred2 = prediction2[:,-1]\n",
    "\n",
    "accuracy1 = np.mean(y_test == y_pred1)\n",
    "accuracy2 = np.mean(y_test == y_pred2)\n",
    "\n",
    "print(accuracy1)\n",
    "print(accuracy2)\n",
    "\n",
    "exactDPGraphs.append(model1)\n",
    "greedyGraphs.append(model2)"
   ]
  },
  {
   "cell_type": "code",
   "execution_count": 5,
   "metadata": {
    "collapsed": false
   },
   "outputs": [
    {
     "name": "stdout",
     "output_type": "stream",
     "text": [
      "0.830666666667\n",
      "0.8145\n"
     ]
    }
   ],
   "source": [
    "labelpath = os.path.join('../data/small7.csv')\n",
    "df = pd.read_csv(labelpath)\n",
    "colNames = df.columns\n",
    "data = np.array(df)\n",
    "data_train = data[:24000]\n",
    "data_test = data[24000:]\n",
    "model1 = BayesianNetwork.from_samples(data_train, algorithm='exact-dp', state_names=colNames)\n",
    "model2 = BayesianNetwork.from_samples(data_train, algorithm='greedy', state_names=colNames)\n",
    "\n",
    "data_test_blank = np.copy(data_test)\n",
    "data_test_blank[:,data_test_blank.shape[1]-1] = None\n",
    "\n",
    "prediction1 = model1.predict(data_test_blank)\n",
    "prediction2 = model2.predict(data_test_blank)\n",
    "y_test = data_test[:,-1]\n",
    "y_pred1 = prediction1[:,-1]\n",
    "y_pred2 = prediction2[:,-1]\n",
    "\n",
    "accuracy1 = np.mean(y_test == y_pred1)\n",
    "accuracy2 = np.mean(y_test == y_pred2)\n",
    "\n",
    "print(accuracy1)\n",
    "print(accuracy2)\n",
    "\n",
    "exactDPGraphs.append(model1)\n",
    "greedyGraphs.append(model2)"
   ]
  },
  {
   "cell_type": "code",
   "execution_count": 17,
   "metadata": {
    "collapsed": false
   },
   "outputs": [
    {
     "name": "stdout",
     "output_type": "stream",
     "text": [
      "Index(['SEX', 'EDUCATION', 'MARRIAGE', 'PAY_0', 'PAY_2', 'PAY_3', 'PAY_4',\n",
      "       'PAY_5', 'Default'],\n",
      "      dtype='object')\n",
      "0.830666666667\n",
      "0.8145\n"
     ]
    }
   ],
   "source": [
    "labelpath = os.path.join('../data/small8.csv')\n",
    "df = pd.read_csv(labelpath)\n",
    "colNames = df.columns\n",
    "print(colNames)\n",
    "data = np.array(df)\n",
    "data_train = data[:24000]\n",
    "data_test = data[24000:]\n",
    "model1 = BayesianNetwork.from_samples(data_train, algorithm='exact-dp', state_names=colNames)\n",
    "model2 = BayesianNetwork.from_samples(data_train, algorithm='greedy', state_names=colNames)\n",
    "\n",
    "data_test_blank = np.copy(data_test)\n",
    "data_test_blank[:,data_test_blank.shape[1]-1] = None\n",
    "\n",
    "prediction1 = model1.predict(data_test_blank)\n",
    "prediction2 = model2.predict(data_test_blank)\n",
    "y_test = data_test[:,-1]\n",
    "y_pred1 = prediction1[:,-1]\n",
    "y_pred2 = prediction2[:,-1]\n",
    "\n",
    "accuracy1 = np.mean(y_test == y_pred1)\n",
    "accuracy2 = np.mean(y_test == y_pred2)\n",
    "\n",
    "print(accuracy1)\n",
    "print(accuracy2)\n",
    "\n",
    "exactDPGraphs.append(model1)\n",
    "greedyGraphs.append(model2)"
   ]
  },
  {
   "cell_type": "code",
   "execution_count": 7,
   "metadata": {
    "collapsed": false
   },
   "outputs": [
    {
     "name": "stdout",
     "output_type": "stream",
     "text": [
      "0.830666666667\n",
      "0.831833333333\n"
     ]
    }
   ],
   "source": [
    "labelpath = os.path.join('../data/discSmallest.csv')\n",
    "df = pd.read_csv(labelpath)\n",
    "colNames = df.columns\n",
    "data = np.array(df)\n",
    "data_train = data[:24000]\n",
    "data_test = data[24000:]\n",
    "model1 = BayesianNetwork.from_samples(data_train, algorithm='exact-dp', state_names=colNames)\n",
    "model2 = BayesianNetwork.from_samples(data_train, algorithm='greedy', state_names=colNames)\n",
    "\n",
    "data_test_blank = np.copy(data_test)\n",
    "data_test_blank = data_test_blank.astype(\"float\")\n",
    "data_test_blank[:,data_test_blank.shape[1]-1] = np.nan\n",
    "\n",
    "prediction1 = model1.predict(data_test_blank)\n",
    "prediction2 = model2.predict(data_test_blank)\n",
    "y_test = data_test[:,-1]\n",
    "y_pred1 = prediction1[:,-1]\n",
    "y_pred2 = prediction2[:,-1]\n",
    "\n",
    "accuracy1 = np.mean(y_test == y_pred1)\n",
    "accuracy2 = np.mean(y_test == y_pred2)\n",
    "\n",
    "print(accuracy1)\n",
    "print(accuracy2)\n",
    "\n",
    "exactDPGraphs.append(model1)\n",
    "greedyGraphs.append(model2)"
   ]
  },
  {
   "cell_type": "code",
   "execution_count": 8,
   "metadata": {
    "collapsed": false
   },
   "outputs": [
    {
     "name": "stdout",
     "output_type": "stream",
     "text": [
      "0.830666666667\n",
      "0.831\n"
     ]
    }
   ],
   "source": [
    "labelpath = os.path.join('../data/discSmall6.csv')\n",
    "df = pd.read_csv(labelpath)\n",
    "colNames = df.columns\n",
    "data = np.array(df)\n",
    "data_train = data[:24000]\n",
    "data_test = data[24000:]\n",
    "model1 = BayesianNetwork.from_samples(data_train, algorithm='exact-dp', state_names=colNames)\n",
    "model2 = BayesianNetwork.from_samples(data_train, algorithm='greedy', state_names=colNames)\n",
    "\n",
    "data_test_blank = np.copy(data_test)\n",
    "data_test_blank = data_test_blank.astype(\"float\")\n",
    "data_test_blank[:,data_test_blank.shape[1]-1] = np.nan\n",
    "\n",
    "prediction1 = model1.predict(data_test_blank)\n",
    "prediction2 = model2.predict(data_test_blank)\n",
    "y_test = data_test[:,-1]\n",
    "y_pred1 = prediction1[:,-1]\n",
    "y_pred2 = prediction2[:,-1]\n",
    "\n",
    "accuracy1 = np.mean(y_test == y_pred1)\n",
    "accuracy2 = np.mean(y_test == y_pred2)\n",
    "\n",
    "print(accuracy1)\n",
    "print(accuracy2)\n",
    "\n",
    "exactDPGraphs.append(model1)\n",
    "greedyGraphs.append(model2)"
   ]
  },
  {
   "cell_type": "code",
   "execution_count": 9,
   "metadata": {
    "collapsed": false
   },
   "outputs": [
    {
     "name": "stdout",
     "output_type": "stream",
     "text": [
      "0.830666666667\n",
      "0.831\n"
     ]
    }
   ],
   "source": [
    "labelpath = os.path.join('../data/discSmall7.csv')\n",
    "df = pd.read_csv(labelpath)\n",
    "colNames = df.columns\n",
    "data = np.array(df)\n",
    "data_train = data[:24000]\n",
    "data_test = data[24000:]\n",
    "model1 = BayesianNetwork.from_samples(data_train, algorithm='exact-dp', state_names=colNames)\n",
    "model2 = BayesianNetwork.from_samples(data_train, algorithm='greedy', state_names=colNames)\n",
    "\n",
    "data_test_blank = np.copy(data_test)\n",
    "data_test_blank = data_test_blank.astype(\"float\")\n",
    "data_test_blank[:,data_test_blank.shape[1]-1] = np.nan\n",
    "\n",
    "prediction1 = model1.predict(data_test_blank)\n",
    "prediction2 = model2.predict(data_test_blank)\n",
    "y_test = data_test[:,-1]\n",
    "y_pred1 = prediction1[:,-1]\n",
    "y_pred2 = prediction2[:,-1]\n",
    "\n",
    "accuracy1 = np.mean(y_test == y_pred1)\n",
    "accuracy2 = np.mean(y_test == y_pred2)\n",
    "\n",
    "print(accuracy1)\n",
    "print(accuracy2)\n",
    "\n",
    "exactDPGraphs.append(model1)\n",
    "greedyGraphs.append(model2)"
   ]
  },
  {
   "cell_type": "code",
   "execution_count": 10,
   "metadata": {
    "collapsed": false
   },
   "outputs": [
    {
     "name": "stdout",
     "output_type": "stream",
     "text": [
      "0.8305\n",
      "0.828833333333\n"
     ]
    }
   ],
   "source": [
    "labelpath = os.path.join('../data/discSmall8.csv')\n",
    "df = pd.read_csv(labelpath)\n",
    "colNames = df.columns\n",
    "data = np.array(df)\n",
    "data_train = data[:24000]\n",
    "data_test = data[24000:]\n",
    "model1 = BayesianNetwork.from_samples(data_train, algorithm='exact-dp', state_names=colNames)\n",
    "model2 = BayesianNetwork.from_samples(data_train, algorithm='greedy', state_names=colNames)\n",
    "\n",
    "data_test_blank = np.copy(data_test)\n",
    "data_test_blank = data_test_blank.astype(\"float\")\n",
    "data_test_blank[:,data_test_blank.shape[1]-1] = np.nan\n",
    "\n",
    "prediction1 = model1.predict(data_test_blank)\n",
    "prediction2 = model2.predict(data_test_blank)\n",
    "y_test = data_test[:,-1]\n",
    "y_pred1 = prediction1[:,-1]\n",
    "y_pred2 = prediction2[:,-1]\n",
    "\n",
    "accuracy1 = np.mean(y_test == y_pred1)\n",
    "accuracy2 = np.mean(y_test == y_pred2)\n",
    "\n",
    "print(accuracy1)\n",
    "print(accuracy2)\n",
    "\n",
    "exactDPGraphs.append(model1)\n",
    "greedyGraphs.append(model2)"
   ]
  },
  {
   "cell_type": "code",
   "execution_count": 18,
   "metadata": {
    "collapsed": false
   },
   "outputs": [
    {
     "name": "stdout",
     "output_type": "stream",
     "text": [
      "1\n"
     ]
    }
   ],
   "source": [
    "print(len(exactDPGraphs))"
   ]
  },
  {
   "cell_type": "code",
   "execution_count": 19,
   "metadata": {
    "collapsed": false
   },
   "outputs": [],
   "source": [
    "import json\n",
    "\n",
    "for i, graph in enumerate(exactDPGraphs):\n",
    "    with open('exact9' + '.json', 'w') as outfile:\n",
    "        json.dump(graph.to_json(), outfile)\n",
    "        \n",
    "for i, graph in enumerate(greedyGraphs):\n",
    "    with open('greedy9' + '.json', 'w') as outfile:\n",
    "        json.dump(graph.to_json(), outfile)"
   ]
  },
  {
   "cell_type": "code",
   "execution_count": null,
   "metadata": {
    "collapsed": false
   },
   "outputs": [],
   "source": []
  },
  {
   "cell_type": "code",
   "execution_count": null,
   "metadata": {
    "collapsed": true
   },
   "outputs": [],
   "source": []
  }
 ],
 "metadata": {
  "kernelspec": {
   "display_name": "Python 3",
   "language": "python",
   "name": "python3"
  },
  "language_info": {
   "codemirror_mode": {
    "name": "ipython",
    "version": 3
   },
   "file_extension": ".py",
   "mimetype": "text/x-python",
   "name": "python",
   "nbconvert_exporter": "python",
   "pygments_lexer": "ipython3",
   "version": "3.5.2"
  }
 },
 "nbformat": 4,
 "nbformat_minor": 2
}
