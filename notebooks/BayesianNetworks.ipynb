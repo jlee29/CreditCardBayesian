{
 "cells": [
  {
   "cell_type": "code",
   "execution_count": 29,
   "metadata": {
    "collapsed": false
   },
   "outputs": [],
   "source": [
    "import os\n",
    "import numpy as np\n",
    "import pandas as pd\n",
    "from pomegranate import *"
   ]
  },
  {
   "cell_type": "code",
   "execution_count": 30,
   "metadata": {
    "collapsed": true
   },
   "outputs": [],
   "source": [
    "exactDPGraphs = []\n",
    "greedyGraphs = []"
   ]
  },
  {
   "cell_type": "code",
   "execution_count": 31,
   "metadata": {
    "collapsed": false
   },
   "outputs": [],
   "source": [
    "labelpath = os.path.join('../data/smallest.csv')\n",
    "df = pd.read_csv(labelpath)\n",
    "colNames = df.columns\n",
    "data = np.array(df)\n",
    "data_train = data[:24000]\n",
    "data_test = data[24000:]\n",
    "model1 = BayesianNetwork.from_samples(data_train, algorithm='exact-dp', state_names=colNames)\n",
    "model2 = BayesianNetwork.from_samples(data_train, algorithm='greedy', state_names=colNames)\n",
    "\n",
    "data_test_blank = np.copy(data_test)\n",
    "data_test_blank[:,data_test_blank.shape[1]-1] = None"
   ]
  },
  {
   "cell_type": "code",
   "execution_count": 32,
   "metadata": {
    "collapsed": false
   },
   "outputs": [
    {
     "name": "stdout",
     "output_type": "stream",
     "text": [
      "0.830666666667\n",
      "0.831\n"
     ]
    }
   ],
   "source": [
    "prediction1 = model1.predict(data_test_blank)\n",
    "prediction2 = model2.predict(data_test_blank)\n",
    "y_test = data_test[:,-1]\n",
    "y_pred1 = prediction1[:,-1]\n",
    "y_pred2 = prediction2[:,-1]\n",
    "\n",
    "accuracy1 = np.mean(y_test == y_pred1)\n",
    "accuracy2 = np.mean(y_test == y_pred2)\n",
    "\n",
    "print(accuracy1)\n",
    "print(accuracy2)\n",
    "\n",
    "exactDPGraphs.append(model1)\n",
    "greedyGraphs.append(model2)"
   ]
  },
  {
   "cell_type": "code",
   "execution_count": 34,
   "metadata": {
    "collapsed": false
   },
   "outputs": [],
   "source": [
    "labelpath = os.path.join('../data/small6.csv')\n",
    "df = pd.read_csv(labelpath)\n",
    "colNames = df.columns\n",
    "data = np.array(df)\n",
    "data_train = data[:24000]\n",
    "data_test = data[24000:]\n",
    "model1 = BayesianNetwork.from_samples(data_train, algorithm='exact-dp', state_names=colNames)\n",
    "model2 = BayesianNetwork.from_samples(data_train, algorithm='greedy', state_names=colNames)\n",
    "\n",
    "data_test_blank = np.copy(data_test)\n",
    "data_test_blank[:,data_test_blank.shape[1]-1] = None"
   ]
  },
  {
   "cell_type": "code",
   "execution_count": 35,
   "metadata": {
    "collapsed": false
   },
   "outputs": [
    {
     "name": "stdout",
     "output_type": "stream",
     "text": [
      "0.830666666667\n",
      "0.831\n"
     ]
    }
   ],
   "source": [
    "prediction1 = model1.predict(data_test_blank)\n",
    "prediction2 = model2.predict(data_test_blank)\n",
    "y_test = data_test[:,-1]\n",
    "y_pred1 = prediction1[:,-1]\n",
    "y_pred2 = prediction2[:,-1]\n",
    "\n",
    "accuracy1 = np.mean(y_test == y_pred1)\n",
    "accuracy2 = np.mean(y_test == y_pred2)\n",
    "\n",
    "print(accuracy1)\n",
    "print(accuracy2)\n",
    "\n",
    "exactDPGraphs.append(model1)\n",
    "greedyGraphs.append(model2)"
   ]
  },
  {
   "cell_type": "code",
   "execution_count": null,
   "metadata": {
    "collapsed": true
   },
   "outputs": [],
   "source": []
  },
  {
   "cell_type": "code",
   "execution_count": 36,
   "metadata": {
    "collapsed": true
   },
   "outputs": [],
   "source": [
    "labelpath = os.path.join('../data/small7.csv')\n",
    "df = pd.read_csv(labelpath)\n",
    "colNames = df.columns\n",
    "data = np.array(df)\n",
    "data_train = data[:24000]\n",
    "data_test = data[24000:]\n",
    "model1 = BayesianNetwork.from_samples(data_train, algorithm='exact-dp', state_names=colNames)\n",
    "model2 = BayesianNetwork.from_samples(data_train, algorithm='greedy', state_names=colNames)\n",
    "\n",
    "data_test_blank = np.copy(data_test)\n",
    "data_test_blank[:,data_test_blank.shape[1]-1] = None"
   ]
  },
  {
   "cell_type": "code",
   "execution_count": 37,
   "metadata": {
    "collapsed": false
   },
   "outputs": [
    {
     "name": "stdout",
     "output_type": "stream",
     "text": [
      "0.830666666667\n",
      "0.8145\n"
     ]
    }
   ],
   "source": [
    "prediction1 = model1.predict(data_test_blank)\n",
    "prediction2 = model2.predict(data_test_blank)\n",
    "y_test = data_test[:,-1]\n",
    "y_pred1 = prediction1[:,-1]\n",
    "y_pred2 = prediction2[:,-1]\n",
    "\n",
    "accuracy1 = np.mean(y_test == y_pred1)\n",
    "accuracy2 = np.mean(y_test == y_pred2)\n",
    "\n",
    "print(accuracy1)\n",
    "print(accuracy2)\n",
    "\n",
    "exactDPGraphs.append(model1)\n",
    "greedyGraphs.append(model2)"
   ]
  },
  {
   "cell_type": "code",
   "execution_count": null,
   "metadata": {
    "collapsed": true
   },
   "outputs": [],
   "source": []
  },
  {
   "cell_type": "code",
   "execution_count": 38,
   "metadata": {
    "collapsed": true
   },
   "outputs": [],
   "source": [
    "labelpath = os.path.join('../data/small8.csv')\n",
    "df = pd.read_csv(labelpath)\n",
    "colNames = df.columns\n",
    "data = np.array(df)\n",
    "data_train = data[:24000]\n",
    "data_test = data[24000:]\n",
    "model1 = BayesianNetwork.from_samples(data_train, algorithm='exact-dp', state_names=colNames)\n",
    "model2 = BayesianNetwork.from_samples(data_train, algorithm='greedy', state_names=colNames)\n",
    "\n",
    "data_test_blank = np.copy(data_test)\n",
    "data_test_blank[:,data_test_blank.shape[1]-1] = None"
   ]
  },
  {
   "cell_type": "code",
   "execution_count": 39,
   "metadata": {
    "collapsed": false
   },
   "outputs": [
    {
     "name": "stdout",
     "output_type": "stream",
     "text": [
      "0.830666666667\n",
      "0.8145\n"
     ]
    }
   ],
   "source": [
    "prediction1 = model1.predict(data_test_blank)\n",
    "prediction2 = model2.predict(data_test_blank)\n",
    "y_test = data_test[:,-1]\n",
    "y_pred1 = prediction1[:,-1]\n",
    "y_pred2 = prediction2[:,-1]\n",
    "\n",
    "accuracy1 = np.mean(y_test == y_pred1)\n",
    "accuracy2 = np.mean(y_test == y_pred2)\n",
    "\n",
    "print(accuracy1)\n",
    "print(accuracy2)\n",
    "\n",
    "exactDPGraphs.append(model1)\n",
    "greedyGraphs.append(model2)"
   ]
  },
  {
   "cell_type": "code",
   "execution_count": 40,
   "metadata": {
    "collapsed": false
   },
   "outputs": [],
   "source": [
    "import json\n",
    "\n",
    "for i, graph in enumerate(exactDPGraphs):\n",
    "    with open('exact' + str(i) + '.json', 'w') as outfile:\n",
    "        json.dump(graph.to_json(), outfile)\n",
    "        \n",
    "for i, graph in enumerate(greedyGraphs):\n",
    "    with open('greedy' + str(i) + '.json', 'w') as outfile:\n",
    "        json.dump(graph.to_json(), outfile)"
   ]
  },
  {
   "cell_type": "code",
   "execution_count": null,
   "metadata": {
    "collapsed": false
   },
   "outputs": [],
   "source": []
  },
  {
   "cell_type": "code",
   "execution_count": null,
   "metadata": {
    "collapsed": true
   },
   "outputs": [],
   "source": []
  }
 ],
 "metadata": {
  "kernelspec": {
   "display_name": "Python 3",
   "language": "python",
   "name": "python3"
  },
  "language_info": {
   "codemirror_mode": {
    "name": "ipython",
    "version": 3
   },
   "file_extension": ".py",
   "mimetype": "text/x-python",
   "name": "python",
   "nbconvert_exporter": "python",
   "pygments_lexer": "ipython3",
   "version": "3.5.2"
  }
 },
 "nbformat": 4,
 "nbformat_minor": 2
}
