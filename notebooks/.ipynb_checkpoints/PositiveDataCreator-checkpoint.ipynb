{
 "cells": [
  {
   "cell_type": "code",
   "execution_count": 17,
   "metadata": {
    "collapsed": true
   },
   "outputs": [],
   "source": [
    "import os\n",
    "import numpy as np\n",
    "import pandas as pd"
   ]
  },
  {
   "cell_type": "code",
   "execution_count": 18,
   "metadata": {
    "collapsed": true
   },
   "outputs": [],
   "source": [
    "dataColNames = [\"LIMIT_BAL,continuous\",\"SEX,discrete(2)\",\"EDUCATION,discrete(7)\",\"MARRIAGE,discrete(4)\",\"AGE,continuous\",\"PAY_0,discrete(11)\",\"PAY_2,discrete(11)\",\"PAY_3,discrete(11)\",\"PAY_4,discrete(11)\",\"PAY_5,discrete(11)\",\"PAY_6,discrete(11)\",\"BILL_AMT1,continuous\",\"BILL_AMT2,continuous\",\"BILL_AMT3,continuous\",\"BILL_AMT4,continuous\",\"BILL_AMT5,continuous\",\"BILL_AMT6,continuous\",\"PAY_AMT1,continuous\",\"PAY_AMT2,continuous\",\"PAY_AMT3,continuous\",\"PAY_AMT4,continuous\",\"PAY_AMT5,continuous\",\"PAY_AMT6,continuous\",\"Default,class(0,1)\"]"
   ]
  },
  {
   "cell_type": "code",
   "execution_count": 19,
   "metadata": {
    "collapsed": false
   },
   "outputs": [],
   "source": [
    "labelpath = os.path.join('../data/all_features_discretized.csv')\n",
    "X = pd.read_csv(labelpath)\n",
    "array = np.array(X)\n",
    "minVal = np.amin(array, axis=0)\n",
    "for i in range(array.shape[1]):\n",
    "    if minVal[i] < 0:\n",
    "        array[:,i] += minVal[i] * -1\n",
    "df = pd.DataFrame(array)\n",
    "df.columns = dataColNames\n",
    "df.to_csv(\"../data/positive_all_discretized.csv\")"
   ]
  },
  {
   "cell_type": "code",
   "execution_count": 23,
   "metadata": {
    "collapsed": false
   },
   "outputs": [],
   "source": [
    "labelpath = os.path.join('../data/small.csv')\n",
    "X = pd.read_csv(labelpath)\n",
    "cols = X.columns\n",
    "array = np.array(X)\n",
    "minVal = np.amin(array, axis=0)\n",
    "newColNames = []\n",
    "for i in range(array.shape[1]):\n",
    "    if minVal[i] < 0:\n",
    "        array[:,i] += minVal[i] * -1\n",
    "df = pd.DataFrame(array)\n",
    "df.columns = cols\n",
    "df.to_csv(\"../data/positive_small.csv\")"
   ]
  },
  {
   "cell_type": "code",
   "execution_count": null,
   "metadata": {
    "collapsed": true
   },
   "outputs": [],
   "source": []
  }
 ],
 "metadata": {
  "kernelspec": {
   "display_name": "Python 3",
   "language": "python",
   "name": "python3"
  },
  "language_info": {
   "codemirror_mode": {
    "name": "ipython",
    "version": 3
   },
   "file_extension": ".py",
   "mimetype": "text/x-python",
   "name": "python",
   "nbconvert_exporter": "python",
   "pygments_lexer": "ipython3",
   "version": "3.5.2"
  }
 },
 "nbformat": 4,
 "nbformat_minor": 0
}
