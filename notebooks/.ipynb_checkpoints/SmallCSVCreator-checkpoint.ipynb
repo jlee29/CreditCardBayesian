{
 "cells": [
  {
   "cell_type": "code",
   "execution_count": 1,
   "metadata": {
    "collapsed": false
   },
   "outputs": [],
   "source": [
    "import os\n",
    "import numpy as np\n",
    "import pandas as pd\n",
    "\n",
    "from sklearn.feature_selection import RFE\n",
    "from sklearn.linear_model import LogisticRegression"
   ]
  },
  {
   "cell_type": "code",
   "execution_count": 2,
   "metadata": {
    "collapsed": false
   },
   "outputs": [],
   "source": [
    "# load the data\n",
    "dataCols = [\"LIMIT_BAL,continuous\",\"SEX,discrete(2)\",\"EDUCATION,discrete(7)\",\"MARRIAGE,discrete(4)\",\"AGE,continuous\",\"PAY_0,discrete(11)\",\"PAY_2,discrete(11)\",\"PAY_3,discrete(11)\",\"PAY_4,discrete(11)\",\"PAY_5,discrete(11)\",\"PAY_6,discrete(11)\",\"BILL_AMT1,continuous\",\"BILL_AMT2,continuous\",\"BILL_AMT3,continuous\",\"BILL_AMT4,continuous\",\"BILL_AMT5,continuous\",\"BILL_AMT6,continuous\",\"PAY_AMT1,continuous\",\"PAY_AMT2,continuous\",\"PAY_AMT3,continuous\",\"PAY_AMT4,continuous\",\"PAY_AMT5,continuous\",\"PAY_AMT6,continuous\",\"Default,class(0,1)\"]\n",
    "\n",
    "labelpath = os.path.join('../data/data.csv')"
   ]
  },
  {
   "cell_type": "code",
   "execution_count": 6,
   "metadata": {
    "collapsed": false
   },
   "outputs": [],
   "source": [
    "array = np.array(pd.read_csv(labelpath))\n",
    "X = array[:,0:23]\n",
    "Y = array[:,23]"
   ]
  },
  {
   "cell_type": "code",
   "execution_count": 9,
   "metadata": {
    "collapsed": false
   },
   "outputs": [
    {
     "name": "stdout",
     "output_type": "stream",
     "text": [
      "[11  1  1  1  1  1  1  1  1  1  2  7  8 13 15 10 14  3  4  6  5  9 12]\n",
      "[12  1  1  1  2  1  1  1  1  1  3  8  9 14 16 11 15  4  5  7  6 10 13]\n",
      "[13  1  1  1  3  1  1  1  2  1  4  9 10 15 17 12 16  5  6  8  7 11 14]\n",
      "[14  1  1  1  4  1  1  1  3  2  5 10 11 16 18 13 17  6  7  9  8 12 15]\n"
     ]
    }
   ],
   "source": [
    "# model = LogisticRegression()\n",
    "# rfe = RFE(estimator=model, n_features_to_select=15, step=1)\n",
    "# rfe.fit(X, Y)\n",
    "# ranking1 = rfe.ranking_\n",
    "\n",
    "# model = LogisticRegression()\n",
    "# rfe = RFE(estimator=model, n_features_to_select=10, step=1)\n",
    "# rfe.fit(X, Y)\n",
    "# ranking2 = rfe.ranking_\n",
    "\n",
    "model = LogisticRegression()\n",
    "rfe = RFE(estimator=model, n_features_to_select=9, step=1)\n",
    "rfe.fit(X, Y)\n",
    "ranking4 = rfe.ranking_\n",
    "\n",
    "model = LogisticRegression()\n",
    "rfe = RFE(estimator=model, n_features_to_select=8, step=1)\n",
    "rfe.fit(X, Y)\n",
    "ranking5 = rfe.ranking_\n",
    "\n",
    "model = LogisticRegression()\n",
    "rfe = RFE(estimator=model, n_features_to_select=7, step=1)\n",
    "rfe.fit(X, Y)\n",
    "ranking6 = rfe.ranking_\n",
    "\n",
    "model = LogisticRegression()\n",
    "rfe = RFE(estimator=model, n_features_to_select=6, step=1)\n",
    "rfe.fit(X, Y)\n",
    "ranking7 = rfe.ranking_\n",
    "\n",
    "# model = LogisticRegression()\n",
    "# rfe = RFE(estimator=model, n_features_to_select=5, step=1)\n",
    "# rfe.fit(X, Y)\n",
    "# ranking3 = rfe.ranking_\n",
    "\n",
    "print(ranking4)\n",
    "print(ranking5)\n",
    "print(ranking6)\n",
    "print(ranking7)"
   ]
  },
  {
   "cell_type": "code",
   "execution_count": 9,
   "metadata": {
    "collapsed": false
   },
   "outputs": [],
   "source": [
    "ranking1 = [5,1,1,1,1,1,1,1,1,1,1,1,1,7,9,4,8,1,1,2,1,3,6]\n",
    "ranking2 = [10,1,1,1,1,1,1,1,1,1,1,5,6,11,14,9,13,2,3,7,4,8,12]\n",
    "ranking3 = [15,1,2,1,5,1,1,1,4,3,6,11,12,17,19,14,18,7,8,10,9,13,16]\n",
    "\n",
    "relevantIndices1 = []\n",
    "relevantIndices2 = []\n",
    "relevantIndices3 = []\n",
    "for i in range(23):\n",
    "    if ranking1[i] == 1:\n",
    "        relevantIndices1.append(i)\n",
    "    if ranking2[i] == 1:\n",
    "        relevantIndices2.append(i)\n",
    "    if ranking3[i] == 1:\n",
    "        relevantIndices3.append(i)"
   ]
  },
  {
   "cell_type": "code",
   "execution_count": 10,
   "metadata": {
    "collapsed": false
   },
   "outputs": [],
   "source": [
    "newX1 = X[:,relevantIndices1]\n",
    "Y = np.reshape(Y, (-1,1))\n",
    "z = np.concatenate((newX1,Y),axis=1)\n",
    "smallDataFrame = pd.DataFrame(z)\n",
    "smallDataFrame.columns = [dataCols[ind] for ind in relevantIndices1] + [\"Default,class(0,1)\"]\n",
    "smallDataFrame.to_csv('../data/small.csv', index=False)\n",
    "\n",
    "newX2 = X[:,relevantIndices2]\n",
    "z = np.concatenate((newX2,Y),axis=1)\n",
    "smallerDataFrame = pd.DataFrame(z)\n",
    "smallerDataFrame.columns = [dataCols[ind] for ind in relevantIndices2] + [\"Default,class(0,1)\"]\n",
    "smallerDataFrame.to_csv('../data/smaller.csv', index=False)\n",
    "\n",
    "newX3 = X[:,relevantIndices3]\n",
    "z = np.concatenate((newX3,Y),axis=1)\n",
    "smallestDataFrame = pd.DataFrame(z)\n",
    "smallestDataFrame.columns = [dataCols[ind] for ind in relevantIndices3] + [\"Default,class(0,1)\"]\n",
    "smallestDataFrame.to_csv('../data/smallest.csv', index=False)"
   ]
  },
  {
   "cell_type": "code",
   "execution_count": 10,
   "metadata": {
    "collapsed": true
   },
   "outputs": [],
   "source": [
    "ranking4 = [11,1,1,1,1,1,1,1,1,1,2,7,8,13,15,10,14,3,4,6,5,9,12]\n",
    "ranking5 = [12,1,1,1,2,1,1,1,1,1,3,8,9,14,16,11,15,4,5,7,6,10,13]\n",
    "ranking6 = [13,1,1,1,3,1,1,1,2,1,4,9,10,15,17,12,16,5,6,8,7,11,14]\n",
    "ranking7 = [14,1,1,1,4,1,1,1,3,2,5,10,11,16,18,13,17,6,7,9,8,12,15]\n",
    "\n",
    "relevantIndices4 = []\n",
    "relevantIndices5 = []\n",
    "relevantIndices6 = []\n",
    "relevantIndices7 = []\n",
    "for i in range(23):\n",
    "    if ranking4[i] == 1:\n",
    "        relevantIndices4.append(i)\n",
    "    if ranking5[i] == 1:\n",
    "        relevantIndices5.append(i)\n",
    "    if ranking6[i] == 1:\n",
    "        relevantIndices6.append(i)\n",
    "    if ranking7[i] == 1:\n",
    "        relevantIndices7.append(i)"
   ]
  },
  {
   "cell_type": "code",
   "execution_count": 11,
   "metadata": {
    "collapsed": true
   },
   "outputs": [],
   "source": [
    "newX4 = X[:,relevantIndices4]\n",
    "Y = np.reshape(Y, (-1,1))\n",
    "z = np.concatenate((newX4,Y),axis=1)\n",
    "small9DataFrame = pd.DataFrame(z)\n",
    "small9DataFrame.columns = [dataCols[ind] for ind in relevantIndices4] + [\"Default,class(0,1)\"]\n",
    "small9DataFrame.to_csv('../data/small9.csv', index=False)\n",
    "\n",
    "newX5 = X[:,relevantIndices5]\n",
    "z = np.concatenate((newX5,Y),axis=1)\n",
    "small8DataFrame = pd.DataFrame(z)\n",
    "small8DataFrame.columns = [dataCols[ind] for ind in relevantIndices5] + [\"Default,class(0,1)\"]\n",
    "small8DataFrame.to_csv('../data/small8.csv', index=False)\n",
    "\n",
    "newX6 = X[:,relevantIndices6]\n",
    "z = np.concatenate((newX6,Y),axis=1)\n",
    "small7DataFrame = pd.DataFrame(z)\n",
    "small7DataFrame.columns = [dataCols[ind] for ind in relevantIndices6] + [\"Default,class(0,1)\"]\n",
    "small7DataFrame.to_csv('../data/small7.csv', index=False)\n",
    "\n",
    "newX7 = X[:,relevantIndices7]\n",
    "z = np.concatenate((newX7,Y),axis=1)\n",
    "small6DataFrame = pd.DataFrame(z)\n",
    "small6DataFrame.columns = [dataCols[ind] for ind in relevantIndices7] + [\"Default,class(0,1)\"]\n",
    "small6DataFrame.to_csv('../data/small6.csv', index=False)"
   ]
  },
  {
   "cell_type": "code",
   "execution_count": null,
   "metadata": {
    "collapsed": true
   },
   "outputs": [],
   "source": []
  }
 ],
 "metadata": {
  "kernelspec": {
   "display_name": "Python 3",
   "language": "python",
   "name": "python3"
  },
  "language_info": {
   "codemirror_mode": {
    "name": "ipython",
    "version": 3
   },
   "file_extension": ".py",
   "mimetype": "text/x-python",
   "name": "python",
   "nbconvert_exporter": "python",
   "pygments_lexer": "ipython3",
   "version": "3.5.2"
  }
 },
 "nbformat": 4,
 "nbformat_minor": 2
}
