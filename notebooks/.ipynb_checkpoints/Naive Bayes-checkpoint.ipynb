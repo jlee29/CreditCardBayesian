{
 "cells": [
  {
   "cell_type": "code",
   "execution_count": 2,
   "metadata": {
    "collapsed": true
   },
   "outputs": [],
   "source": [
    "%matplotlib inline\n",
    "import os\n",
    "# let's not pollute this blog post with warnings\n",
    "from warnings import filterwarnings\n",
    "filterwarnings('ignore')\n",
    "import numpy as np\n",
    "import pandas as pd\n",
    "import csv\n",
    "#Import Library of Gaussian Naive Bayes model\n",
    "from sklearn.naive_bayes import GaussianNB, MultinomialNB"
   ]
  },
  {
   "cell_type": "code",
   "execution_count": 30,
   "metadata": {
    "collapsed": false
   },
   "outputs": [
    {
     "name": "stdout",
     "output_type": "stream",
     "text": [
      "(24000, 23)\n",
      "(24000,)\n",
      "(6000, 23)\n",
      "(6000,)\n"
     ]
    }
   ],
   "source": [
    "x = np.zeros((30000, 23))\n",
    "y = np.zeros(30000)\n",
    "smallLabelpath = os.path.join('../data/small.csv')\n",
    "\n",
    "\n",
    "x_train = x[:24000]\n",
    "y_train = y[:24000]\n",
    "x_test = x[24000:]\n",
    "y_test = y[24000:]\n",
    "\n",
    "print(x_train.shape)\n",
    "print(y_train.shape)\n",
    "print(x_test.shape)\n",
    "print(y_test.shape)"
   ]
  },
  {
   "cell_type": "code",
   "execution_count": 32,
   "metadata": {
    "collapsed": false
   },
   "outputs": [
    {
     "name": "stdout",
     "output_type": "stream",
     "text": [
      "589\n",
      "474\n",
      "4260\n",
      "677\n",
      "0.8081666666666667\n"
     ]
    }
   ],
   "source": [
    "model = GaussianNB()\n",
    "\n",
    "# Train the model using the training sets \n",
    "model.fit(x_train, y_train)\n",
    "\n",
    "#Predict Output \n",
    "y_pred = model.predict(x_test)\n",
    "TP = 0\n",
    "FP = 0\n",
    "TN = 0\n",
    "FN = 0\n",
    "for i in range(len(y_test)): \n",
    "    if y_test[i] == y_pred[i] and y_test[i] == 1:\n",
    "        TP += 1\n",
    "    if y_test[i] != y_pred[i] and y_test[i] == 0:\n",
    "        FP += 1\n",
    "    if y_test[i] == y_pred[i] and y_test[i] == 0:\n",
    "        TN += 1 \n",
    "    if y_test[i] != y_pred[i] and y_test[i] == 1:\n",
    "        FN += 1\n",
    "print(TP)\n",
    "print(FP)\n",
    "print(TN)\n",
    "print(FN)\n",
    "\n",
    "accuracy = (TP + TN) / (1.0*len(y_test))\n",
    "print(accuracy)"
   ]
  },
  {
   "cell_type": "code",
   "execution_count": null,
   "metadata": {
    "collapsed": true
   },
   "outputs": [],
   "source": []
  }
 ],
 "metadata": {
  "kernelspec": {
   "display_name": "Python 3",
   "language": "python",
   "name": "python3"
  },
  "language_info": {
   "codemirror_mode": {
    "name": "ipython",
    "version": 3
   },
   "file_extension": ".py",
   "mimetype": "text/x-python",
   "name": "python",
   "nbconvert_exporter": "python",
   "pygments_lexer": "ipython3",
   "version": "3.5.2"
  }
 },
 "nbformat": 4,
 "nbformat_minor": 2
}
