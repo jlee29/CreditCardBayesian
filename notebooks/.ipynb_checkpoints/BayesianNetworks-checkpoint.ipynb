{
 "cells": [
  {
   "cell_type": "code",
   "execution_count": 7,
   "metadata": {
    "collapsed": false
   },
   "outputs": [],
   "source": [
    "import os\n",
    "import numpy as np\n",
    "import pandas as pd\n",
    "from pomegranate import *"
   ]
  },
  {
   "cell_type": "code",
   "execution_count": 8,
   "metadata": {
    "collapsed": true
   },
   "outputs": [],
   "source": [
    "exactDPGraphs = []\n",
    "greedyGraphs = []\n",
    "chowLiuGraphs = []"
   ]
  },
  {
   "cell_type": "code",
   "execution_count": 9,
   "metadata": {
    "collapsed": false
   },
   "outputs": [],
   "source": [
    "labelpath = os.path.join('../data/smallest.csv')\n",
    "data = np.array(pd.read_csv(labelpath))\n",
    "data_train = data[:24000]\n",
    "data_test = data[24000:]\n",
    "model1 = BayesianNetwork.from_samples(data_train, algorithm='exact-dp')\n",
    "model2 = BayesianNetwork.from_samples(data_train, algorithm='greedy')\n",
    "model3 = BayesianNetwork.from_samples(data_train, algorithm='chow-liu')\n",
    "\n",
    "data_test_blank = np.copy(data_test)\n",
    "data_test_blank[:,data_test_blank.shape[1]-1] = None"
   ]
  },
  {
   "cell_type": "code",
   "execution_count": 10,
   "metadata": {
    "collapsed": false
   },
   "outputs": [
    {
     "name": "stdout",
     "output_type": "stream",
     "text": [
      "0.830666666667\n",
      "0.831\n",
      "0.830666666667\n"
     ]
    }
   ],
   "source": [
    "prediction1 = model1.predict(data_test_blank)\n",
    "prediction2 = model2.predict(data_test_blank)\n",
    "prediction3 = model3.predict(data_test_blank)\n",
    "y_test = data_test[:,-1]\n",
    "y_pred1 = prediction1[:,-1]\n",
    "y_pred2 = prediction2[:,-1]\n",
    "y_pred3 = prediction3[:,-1]\n",
    "\n",
    "accuracy1 = np.mean(y_test == y_pred1)\n",
    "accuracy2 = np.mean(y_test == y_pred2)\n",
    "accuracy3 = np.mean(y_test == y_pred3)\n",
    "\n",
    "print(accuracy1)\n",
    "print(accuracy2)\n",
    "print(accuracy3)\n",
    "\n",
    "exactDPGraphs.append(model1)\n",
    "greedyGraphs.append(model2)\n",
    "chowLiuGraphs.append(model3)"
   ]
  },
  {
   "cell_type": "code",
   "execution_count": 11,
   "metadata": {
    "collapsed": false
   },
   "outputs": [],
   "source": [
    "labelpath = os.path.join('../data/small6.csv')\n",
    "data = np.array(pd.read_csv(labelpath))\n",
    "data_train = data[:24000]\n",
    "data_test = data[24000:]\n",
    "model1 = BayesianNetwork.from_samples(data_train, algorithm='exact-dp')\n",
    "model2 = BayesianNetwork.from_samples(data_train, algorithm='greedy')\n",
    "model3 = BayesianNetwork.from_samples(data_train, algorithm='chow-liu')\n",
    "\n",
    "data_test_blank = np.copy(data_test)\n",
    "data_test_blank[:,data_test_blank.shape[1]-1] = None"
   ]
  },
  {
   "cell_type": "code",
   "execution_count": 12,
   "metadata": {
    "collapsed": false
   },
   "outputs": [
    {
     "name": "stdout",
     "output_type": "stream",
     "text": [
      "0.830666666667\n",
      "0.831\n",
      "0.830666666667\n"
     ]
    }
   ],
   "source": [
    "prediction1 = model1.predict(data_test_blank)\n",
    "prediction2 = model2.predict(data_test_blank)\n",
    "prediction3 = model3.predict(data_test_blank)\n",
    "y_test = data_test[:,-1]\n",
    "y_pred1 = prediction1[:,-1]\n",
    "y_pred2 = prediction2[:,-1]\n",
    "y_pred3 = prediction3[:,-1]\n",
    "\n",
    "accuracy1 = np.mean(y_test == y_pred1)\n",
    "accuracy2 = np.mean(y_test == y_pred2)\n",
    "accuracy3 = np.mean(y_test == y_pred3)\n",
    "\n",
    "print(accuracy1)\n",
    "print(accuracy2)\n",
    "print(accuracy3)\n",
    "\n",
    "exactDPGraphs.append(model1)\n",
    "greedyGraphs.append(model2)\n",
    "chowLiuGraphs.append(model3)"
   ]
  },
  {
   "cell_type": "code",
   "execution_count": null,
   "metadata": {
    "collapsed": true
   },
   "outputs": [],
   "source": []
  },
  {
   "cell_type": "code",
   "execution_count": 13,
   "metadata": {
    "collapsed": true
   },
   "outputs": [],
   "source": [
    "labelpath = os.path.join('../data/small7.csv')\n",
    "data = np.array(pd.read_csv(labelpath))\n",
    "data_train = data[:24000]\n",
    "data_test = data[24000:]\n",
    "model1 = BayesianNetwork.from_samples(data_train, algorithm='exact-dp')\n",
    "model2 = BayesianNetwork.from_samples(data_train, algorithm='greedy')\n",
    "model3 = BayesianNetwork.from_samples(data_train, algorithm='chow-liu')\n",
    "\n",
    "data_test_blank = np.copy(data_test)\n",
    "data_test_blank[:,data_test_blank.shape[1]-1] = None"
   ]
  },
  {
   "cell_type": "code",
   "execution_count": 14,
   "metadata": {
    "collapsed": false
   },
   "outputs": [
    {
     "name": "stdout",
     "output_type": "stream",
     "text": [
      "0.830666666667\n",
      "0.8145\n",
      "0.830666666667\n"
     ]
    }
   ],
   "source": [
    "prediction1 = model1.predict(data_test_blank)\n",
    "prediction2 = model2.predict(data_test_blank)\n",
    "prediction3 = model3.predict(data_test_blank)\n",
    "y_test = data_test[:,-1]\n",
    "y_pred1 = prediction1[:,-1]\n",
    "y_pred2 = prediction2[:,-1]\n",
    "y_pred3 = prediction3[:,-1]\n",
    "\n",
    "accuracy1 = np.mean(y_test == y_pred1)\n",
    "accuracy2 = np.mean(y_test == y_pred2)\n",
    "accuracy3 = np.mean(y_test == y_pred3)\n",
    "\n",
    "print(accuracy1)\n",
    "print(accuracy2)\n",
    "print(accuracy3)\n",
    "\n",
    "exactDPGraphs.append(model1)\n",
    "greedyGraphs.append(model2)\n",
    "chowLiuGraphs.append(model3)"
   ]
  },
  {
   "cell_type": "code",
   "execution_count": null,
   "metadata": {
    "collapsed": true
   },
   "outputs": [],
   "source": []
  },
  {
   "cell_type": "code",
   "execution_count": 15,
   "metadata": {
    "collapsed": true
   },
   "outputs": [],
   "source": [
    "labelpath = os.path.join('../data/small8.csv')\n",
    "data = np.array(pd.read_csv(labelpath))\n",
    "data_train = data[:24000]\n",
    "data_test = data[24000:]\n",
    "model1 = BayesianNetwork.from_samples(data_train, algorithm='exact-dp')\n",
    "model2 = BayesianNetwork.from_samples(data_train, algorithm='greedy')\n",
    "model3 = BayesianNetwork.from_samples(data_train, algorithm='chow-liu')\n",
    "\n",
    "data_test_blank = np.copy(data_test)\n",
    "data_test_blank[:,data_test_blank.shape[1]-1] = None"
   ]
  },
  {
   "cell_type": "code",
   "execution_count": 16,
   "metadata": {
    "collapsed": false
   },
   "outputs": [
    {
     "name": "stdout",
     "output_type": "stream",
     "text": [
      "0.830666666667\n",
      "0.8145\n",
      "0.830666666667\n"
     ]
    }
   ],
   "source": [
    "prediction1 = model1.predict(data_test_blank)\n",
    "prediction2 = model2.predict(data_test_blank)\n",
    "prediction3 = model3.predict(data_test_blank)\n",
    "y_test = data_test[:,-1]\n",
    "y_pred1 = prediction1[:,-1]\n",
    "y_pred2 = prediction2[:,-1]\n",
    "y_pred3 = prediction3[:,-1]\n",
    "\n",
    "accuracy1 = np.mean(y_test == y_pred1)\n",
    "accuracy2 = np.mean(y_test == y_pred2)\n",
    "accuracy3 = np.mean(y_test == y_pred3)\n",
    "\n",
    "print(accuracy1)\n",
    "print(accuracy2)\n",
    "print(accuracy3)\n",
    "\n",
    "exactDPGraphs.append(model1)\n",
    "greedyGraphs.append(model2)\n",
    "chowLiuGraphs.append(model3)"
   ]
  },
  {
   "cell_type": "raw",
   "metadata": {},
   "source": [
    "import json\n",
    "\n",
    "for i, graph in enumerate(exactDPGraphs):\n",
    "    with open('exact' + str(i) + '.json', 'w') as outfile:\n",
    "        json.dump(graph.to_json(), outfile)\n",
    "        \n",
    "for i, graph in enumerate(greedyGraphs):\n",
    "    with open('greedy' + str(i) + '.json', 'w') as outfile:\n",
    "        json.dump(graph.to_json(), outfile)\n",
    "\n",
    "for i, graph in enumerate(chowLiuGraphs):\n",
    "    with open('chowLiu' + str(i) + '.json', 'w') as outfile:\n",
    "        json.dumps(graph.to_json(), outfile)"
   ]
  },
  {
   "cell_type": "code",
   "execution_count": 17,
   "metadata": {
    "collapsed": false
   },
   "outputs": [],
   "source": [
    "import json\n",
    "\n",
    "for i, graph in enumerate(exactDPGraphs):\n",
    "    with open('exact' + str(i) + '.json', 'w') as outfile:\n",
    "        json.dump(graph.to_json(), outfile)\n",
    "        \n",
    "for i, graph in enumerate(greedyGraphs):\n",
    "    with open('greedy' + str(i) + '.json', 'w') as outfile:\n",
    "        json.dump(graph.to_json(), outfile)\n",
    "\n",
    "for i, graph in enumerate(chowLiuGraphs):\n",
    "    with open('chowLiu' + str(i) + '.json', 'w') as outfile:\n",
    "        json.dumps(graph.to_json(), outfile)"
   ]
  },
  {
   "cell_type": "code",
   "execution_count": null,
   "metadata": {
    "collapsed": false
   },
   "outputs": [],
   "source": []
  },
  {
   "cell_type": "code",
   "execution_count": null,
   "metadata": {
    "collapsed": true
   },
   "outputs": [],
   "source": []
  }
 ],
 "metadata": {
  "kernelspec": {
   "display_name": "Python 3",
   "language": "python",
   "name": "python3"
  },
  "language_info": {
   "codemirror_mode": {
    "name": "ipython",
    "version": 3
   },
   "file_extension": ".py",
   "mimetype": "text/x-python",
   "name": "python",
   "nbconvert_exporter": "python",
   "pygments_lexer": "ipython3",
   "version": "3.5.2"
  }
 },
 "nbformat": 4,
 "nbformat_minor": 2
}
