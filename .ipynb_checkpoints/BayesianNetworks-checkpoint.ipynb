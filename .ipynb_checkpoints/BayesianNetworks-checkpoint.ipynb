{
 "cells": [
  {
   "cell_type": "code",
   "execution_count": 2,
   "metadata": {
    "collapsed": false
   },
   "outputs": [],
   "source": [
    "%matplotlib inline\n",
    "\n",
    "import os\n",
    "\n",
    "# let's not pollute this blog post with warnings\n",
    "from warnings import filterwarnings\n",
    "filterwarnings('ignore')\n",
    "\n",
    "import numpy as np\n",
    "import pandas as pd  "
   ]
  },
  {
   "cell_type": "code",
   "execution_count": 19,
   "metadata": {
    "collapsed": false
   },
   "outputs": [
    {
     "name": "stdout",
     "output_type": "stream",
     "text": [
      "                 ID       LIMIT_BAL           SEX     EDUCATION      MARRIAGE  \\\n",
      "count  30000.000000    30000.000000  30000.000000  30000.000000  30000.000000   \n",
      "mean   15000.500000   167484.322667      1.603733      1.853133      1.551867   \n",
      "std     8660.398374   129747.661567      0.489129      0.790349      0.521970   \n",
      "min        1.000000    10000.000000      1.000000      0.000000      0.000000   \n",
      "25%     7500.750000    50000.000000      1.000000      1.000000      1.000000   \n",
      "50%    15000.500000   140000.000000      2.000000      2.000000      2.000000   \n",
      "75%    22500.250000   240000.000000      2.000000      2.000000      2.000000   \n",
      "max    30000.000000  1000000.000000      2.000000      6.000000      3.000000   \n",
      "\n",
      "                AGE         PAY_0         PAY_2         PAY_3         PAY_4  \\\n",
      "count  30000.000000  30000.000000  30000.000000  30000.000000  30000.000000   \n",
      "mean      35.485500     -0.016700     -0.133767     -0.166200     -0.220667   \n",
      "std        9.217904      1.123802      1.197186      1.196868      1.169139   \n",
      "min       21.000000     -2.000000     -2.000000     -2.000000     -2.000000   \n",
      "25%       28.000000     -1.000000     -1.000000     -1.000000     -1.000000   \n",
      "50%       34.000000      0.000000      0.000000      0.000000      0.000000   \n",
      "75%       41.000000      0.000000      0.000000      0.000000      0.000000   \n",
      "max       79.000000      8.000000      8.000000      8.000000      8.000000   \n",
      "\n",
      "                  ...                  BILL_AMT4      BILL_AMT5  \\\n",
      "count             ...               30000.000000   30000.000000   \n",
      "mean              ...               43262.948967   40311.400967   \n",
      "std               ...               64332.856134   60797.155770   \n",
      "min               ...             -170000.000000  -81334.000000   \n",
      "25%               ...                2326.750000    1763.000000   \n",
      "50%               ...               19052.000000   18104.500000   \n",
      "75%               ...               54506.000000   50190.500000   \n",
      "max               ...              891586.000000  927171.000000   \n",
      "\n",
      "           BILL_AMT6       PAY_AMT1      PAY_AMT2      PAY_AMT3  \\\n",
      "count   30000.000000   30000.000000  3.000000e+04   30000.00000   \n",
      "mean    38871.760400    5663.580500  5.921163e+03    5225.68150   \n",
      "std     59554.107537   16563.280354  2.304087e+04   17606.96147   \n",
      "min   -339603.000000       0.000000  0.000000e+00       0.00000   \n",
      "25%      1256.000000    1000.000000  8.330000e+02     390.00000   \n",
      "50%     17071.000000    2100.000000  2.009000e+03    1800.00000   \n",
      "75%     49198.250000    5006.000000  5.000000e+03    4505.00000   \n",
      "max    961664.000000  873552.000000  1.684259e+06  896040.00000   \n",
      "\n",
      "            PAY_AMT4       PAY_AMT5       PAY_AMT6  default.payment.next.month  \n",
      "count   30000.000000   30000.000000   30000.000000                30000.000000  \n",
      "mean     4826.076867    4799.387633    5215.502567                    0.221200  \n",
      "std     15666.159744   15278.305679   17777.465775                    0.415062  \n",
      "min         0.000000       0.000000       0.000000                    0.000000  \n",
      "25%       296.000000     252.500000     117.750000                    0.000000  \n",
      "50%      1500.000000    1500.000000    1500.000000                    0.000000  \n",
      "75%      4013.250000    4031.500000    4000.000000                    0.000000  \n",
      "max    621000.000000  426529.000000  528666.000000                    1.000000  \n",
      "\n",
      "[8 rows x 25 columns]\n"
     ]
    }
   ],
   "source": [
    "# load the data\n",
    "labelpath = os.path.join('UCI_Credit_Card.csv')\n",
    "train_labels = pd.read_csv(labelpath)\n",
    "print(train_labels.describe())\n",
    "del train_labels['ID']\n",
    "train_labels.columns = [\"LIMIT_BAL,continuous\",\"SEX,discrete(2)\",\"EDUCATION,discrete(7)\",\"MARRIAGE,discrete(4)\",\"AGE,continuous\",\"PAY_0,discrete(11)\",\"PAY_2,discrete(11)\",\"PAY_3,discrete(11)\",\"PAY_4,discrete(11)\",\"PAY_5,discrete(11)\",\"PAY_6,discrete(11)\",\"BILL_AMT1,continuous\",\"BILL_AMT2,continuous\",\"BILL_AMT3,continuous\",\"BILL_AMT4,continuous\",\"BILL_AMT5,continuous\",\"BILL_AMT6,continuous\",\"PAY_AMT1,continuous\",\"PAY_AMT2,continuous\",\"PAY_AMT3,continuous\",\"PAY_AMT4,continuous\",\"PAY_AMT5,continuous\",\"PAY_AMT6,continuous\",\"Default,class(0,1)\"]\n",
    "train_labels.to_csv('data.csv', '\\t')"
   ]
  },
  {
   "cell_type": "code",
   "execution_count": null,
   "metadata": {
    "collapsed": false
   },
   "outputs": [],
   "source": [
    "from pebl import data\n",
    "from pebl.learner import greedy\n",
    "dataset = data.fromfile(\"data.csv\")\n",
    "print(dataset)\n",
    "dataset.discretize()\n",
    "learner = greedy.GreedyLearner(dataset)\n",
    "ex1result = learner.run()\n",
    "ex1result.tohtml(\"example1-result\")"
   ]
  },
  {
   "cell_type": "code",
   "execution_count": null,
   "metadata": {
    "collapsed": true
   },
   "outputs": [],
   "source": []
  }
 ],
 "metadata": {
  "kernelspec": {
   "display_name": "Python 2",
   "language": "python",
   "name": "python2"
  },
  "language_info": {
   "codemirror_mode": {
    "name": "ipython",
    "version": 2
   },
   "file_extension": ".py",
   "mimetype": "text/x-python",
   "name": "python",
   "nbconvert_exporter": "python",
   "pygments_lexer": "ipython2",
   "version": "2.7.13"
  }
 },
 "nbformat": 4,
 "nbformat_minor": 2
}
