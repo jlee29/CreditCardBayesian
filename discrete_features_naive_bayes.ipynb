{
 "cells": [
  {
   "cell_type": "code",
   "execution_count": 2,
   "metadata": {
    "collapsed": true
   },
   "outputs": [],
   "source": [
    "%matplotlib inline\n",
    "import os\n",
    "from warnings import filterwarnings\n",
    "filterwarnings('ignore')\n",
    "import numpy as np\n",
    "import pandas as pd\n",
    "import csv\n",
    "#Import Library of Gaussian Naive Bayes model\n",
    "from sklearn.naive_bayes import GaussianNB"
   ]
  },
  {
   "cell_type": "code",
   "execution_count": null,
   "metadata": {
    "collapsed": true
   },
   "outputs": [],
   "source": [
    "labelpath = os.path.join('UCI_Credit_Card.csv')\n",
    "train_labels = pd.read_csv(labelpath)\n",
    "discrete_labels = ['SEX','EDUCATION', 'MARRIAGE', 'PAY_0', 'PAY_2', 'PAY_3', 'PAY_4', 'PAY_5', 'PAY_6', 'default.payment.next.month']\n",
    "train_labels = train_labels[discrete_labels]\n",
    "train_labels.to_csv('discrete_features.csv', index=False)"
   ]
  },
  {
   "cell_type": "code",
   "execution_count": 6,
   "metadata": {
    "collapsed": false,
    "scrolled": false
   },
   "outputs": [],
   "source": [
    "x = np.zeros((30000, 9))\n",
    "y = np.zeros(30000)\n",
    "with open('discrete_features.csv', 'rb') as csvfile:\n",
    "    spamreader = csv.reader(csvfile, delimiter=',', quotechar='|')\n",
    "    for i, row in enumerate(spamreader):\n",
    "        if i==0:\n",
    "            continue\n",
    "        data = row[:-1]\n",
    "        label = row[-1]\n",
    "        x[i-1] = data\n",
    "        y[i-1] = label\n",
    "\n",
    "x_train = x[:24000]\n",
    "y_train = y[:24000]\n",
    "x_test = x[24000:]\n",
    "y_test = y[24000:]"
   ]
  },
  {
   "cell_type": "code",
   "execution_count": 7,
   "metadata": {
    "collapsed": false
   },
   "outputs": [
    {
     "name": "stdout",
     "output_type": "stream",
     "text": [
      "513\n",
      "354\n",
      "4380\n",
      "753\n",
      "0.8155\n"
     ]
    }
   ],
   "source": [
    "model = GaussianNB()\n",
    "\n",
    "# Train the model using the training sets \n",
    "model.fit(x_train, y_train)\n",
    "\n",
    "#Predict Output \n",
    "y_pred = model.predict(x_test)\n",
    "TP = 0\n",
    "FP = 0\n",
    "TN = 0\n",
    "FN = 0\n",
    "for i in range(len(y_test)): \n",
    "    if y_test[i] == y_pred[i] and y_test[i] == 1:\n",
    "        TP += 1\n",
    "    if y_test[i] != y_pred[i] and y_test[i] == 0:\n",
    "        FP += 1\n",
    "    if y_test[i] == y_pred[i] and y_test[i] == 0:\n",
    "        TN += 1 \n",
    "    if y_test[i] != y_pred[i] and y_test[i] == 1:\n",
    "        FN += 1\n",
    "print(TP)\n",
    "print(FP)\n",
    "print(TN)\n",
    "print(FN)\n",
    "\n",
    "accuracy = (TP + TN) / (1.0*len(y_test))\n",
    "print(accuracy)\n",
    "    "
   ]
  },
  {
   "cell_type": "code",
   "execution_count": null,
   "metadata": {
    "collapsed": true
   },
   "outputs": [],
   "source": []
  }
 ],
 "metadata": {
  "kernelspec": {
   "display_name": "Python 2",
   "language": "python",
   "name": "python2"
  },
  "language_info": {
   "codemirror_mode": {
    "name": "ipython",
    "version": 2
   },
   "file_extension": ".py",
   "mimetype": "text/x-python",
   "name": "python",
   "nbconvert_exporter": "python",
   "pygments_lexer": "ipython2",
   "version": "2.7.13"
  }
 },
 "nbformat": 4,
 "nbformat_minor": 2
}
